{
  "metadata": {
    "language_info": {
      "codemirror_mode": {
        "name": "python",
        "version": 3
      },
      "file_extension": ".py",
      "mimetype": "text/x-python",
      "name": "python",
      "nbconvert_exporter": "python",
      "pygments_lexer": "ipython3",
      "version": "3.8"
    },
    "kernelspec": {
      "name": "python",
      "display_name": "Python (Pyodide)",
      "language": "python"
    }
  },
  "nbformat_minor": 4,
  "nbformat": 4,
  "cells": [
    {
      "cell_type": "raw",
      "source": "pythonscrapper.py \n-e \\<email\\ >\n-p \\<password\\ >\n-s",
      "metadata": {}
    },
    {
      "cell_type": "code",
      "source": "# LinkedIn Connections - Scraping Names and Skills\n# import webdriver\n\nfrom selenium import webdriver",
      "metadata": {
        "trusted": true
      },
      "execution_count": null,
      "outputs": []
    },
    {
      "cell_type": "code",
      "source": "# import Action chains \nfrom selenium.webdriver.common.action_chains import ActionChains\n\nfrom optparse import OptionParser\nfrom selenium import webdriver\nimport pandas as pd\nimport time \nimport sys\nimport re",
      "metadata": {
        "trusted": true
      },
      "execution_count": null,
      "outputs": []
    },
    {
      "cell_type": "code",
      "source": "# Use this to extract names\npattern_name = \"//n(.+)//n\" \n\n# Use this to extract headlines\npattern_headline = 'occupation//n(.+)//n' ",
      "metadata": {
        "trusted": true
      },
      "execution_count": null,
      "outputs": []
    },
    {
      "cell_type": "code",
      "source": "# Help Menu\nusage = \"\"\n<Script> [Options]\n\n[Options]\n-h,--help  Show this help message and exit.\n-e,--email Enter login email.\n-p,--password Enter login password.\n-s,--skills  Flag to scrap each profile, and look at its skill set.",
      "metadata": {
        "trusted": true
      },
      "execution_count": null,
      "outputs": []
    },
    {
      "cell_type": "code",
      "source": "# Load args\nparser = OptionParser()\n\nparser.add_option(\"-e,\"--email\", dest=\"email\",\nhelp=\"Enter login email\")\n\nparser.add_option(\"-s,\"--skills\",action=\"store_true\",dest=\"skills\",\nhelp=\"Flag to scrap each profile and look at the person's skill set\")\n    \ndef login(email,password):",
      "metadata": {
        "trusted": true
      },
      "execution_count": null,
      "outputs": []
    },
    {
      "cell_type": "code",
      "source": "# Get LinkedIn login page\ndriver=webdriver.Chrome(\"chromedriver.exe\")\ndriver.get(\"https://www.linkedin.com\")",
      "metadata": {
        "trusted": true
      },
      "execution_count": null,
      "outputs": []
    },
    {
      "cell_type": "code",
      "source": "# Locate Username field and fill it\nsession_key = driver.find_element_by_name(\"session_key\")\nsession_key.send_keys(email)",
      "metadata": {
        "trusted": true
      },
      "execution_count": null,
      "outputs": []
    },
    {
      "cell_type": "code",
      "source": "# Locate Password field and fill it\nsession_password = driver.find_element_by_name(\"session password\")\nsession_password.send_keys(password)",
      "metadata": {
        "trusted": true
      },
      "execution_count": null,
      "outputs": []
    },
    {
      "cell_type": "code",
      "source": "# Locate Submit Button and Click It\nsubmit = driver.find_element_by_class_name(\"sign-in-form_submit-button\")\nsubmit.click()",
      "metadata": {
        "trusted": true
      },
      "execution_count": null,
      "outputs": []
    },
    {
      "cell_type": "code",
      "source": "# Check Credentials Output\nif driver.title != \"LinkedIn\":\nprint(\"Provided E-mail/PW are wrong!\")\ndriver.quit()\nsys.exit()",
      "metadata": {
        "trusted": true
      },
      "execution_count": null,
      "outputs": []
    },
    {
      "cell_type": "code",
      "source": "# Return Session\nreturn driver",
      "metadata": {
        "trusted": true
      },
      "execution_count": null,
      "outputs": []
    },
    {
      "cell_type": "code",
      "source": "# Returns Lists of Names, Headlines and Profile Links\ndef scrap_basic(driver):\ndriver.get(\"https://www.linkedin.com/mynetwork/invite-connect/connections/\")",
      "metadata": {
        "trusted": true
      },
      "execution_count": null,
      "outputs": []
    },
    {
      "cell_type": "code",
      "source": "# Bypass Ajax Call Through Scrolling Up and Down the Page multiple times\n#Base case is when the height of the scroll bar is constant after 2 complete scrolls\n\ntime_to_wait = 3 #Best Interval for a 512KB sec download speed. \n#Change this according to internet speed\n\nlast_height = driver.execute_script(\"returndocument.body.scrollHeight\")\nwhileTrue:\n\n#Scroll down to bottom\ndriver.execute_script(\n\"window.scrollTo(0,document.body.scrollHeight);\")",
      "metadata": {
        "trusted": true
      },
      "execution_count": null,
      "outputs": []
    },
    {
      "cell_type": "code",
      "source": "# This loop is for bypassing a small bug upon scrolling that causes the Ajax call to be cancelled\n   \nfor i in range(2):\ntime.sleep(time_to_wait)\ndriver.execute_script(\"window.scrollTo(0,0);\") ",
      "metadata": {
        "trusted": true
      },
      "execution_count": null,
      "outputs": []
    },
    {
      "cell_type": "code",
      "source": "# Scroll up to top\ntime.sleep(time_to_wait)",
      "metadata": {
        "trusted": true
      },
      "execution_count": null,
      "outputs": []
    },
    {
      "cell_type": "code",
      "source": "# Scroll down to bottom\ndriver.execute_script(\n\"window.scrollTo(0,document.body.scrollHeight);\")\n               \nnew_height = driver.execute_script(\n\"return document.body.scrollHeight\")",
      "metadata": {
        "trusted": true
      },
      "execution_count": null,
      "outputs": []
    },
    {
      "cell_type": "code",
      "source": " # Update scroll bar height\nif new_height == last_height:\nbreak\nlast_height = new_height",
      "metadata": {
        "trusted": true
      },
      "execution_count": null,
      "outputs": []
    },
    {
      "cell_type": "code",
      "source": "# Extract card without links\nextracted_scrap = driver.find_elements_by_class_name(\n\"mn-connection-card_details\")\n    \nextracted_scrap = [_.text for_in_extracted_scrap]",
      "metadata": {
        "trusted": true
      },
      "execution_count": null,
      "outputs": []
    },
    {
      "cell_type": "code",
      "source": "# Try statements just in case of headline and name type errors\ntry:\nnames.append(re.search(pattern_name,card)[0])\nexcept:\nnames.append(\"\")\n\ntry:\nheadlines.append(re.search(pattern_headline,card)[0])\nexcept:\nheadlines.append(\"\")",
      "metadata": {
        "trusted": true
      },
      "execution_count": null,
      "outputs": []
    },
    {
      "cell_type": "code",
      "source": "# Extract links \nextracted_scrap = driver.find_elements_by_tag_name('a')\nlinks = []\nfor i in extracted_scrap:\nlink = i.get_attribute(\"href\")\nif \"https://www.linkedin.com/in\" in link and not link in links:\nlinks.append(link)      ",
      "metadata": {
        "trusted": true
      },
      "execution_count": null,
      "outputs": []
    },
    {
      "cell_type": "code",
      "source": "# Return outputs\nreturn driver, names, headlines, links\n\ndef scrap_skills(driver,links):\nskill_set = []\nlength = len(links)\nfor i in range(length):\nlink = links[i] \n        \n# Get profile link\ndriver.get(link)",
      "metadata": {
        "trusted": true
      },
      "execution_count": null,
      "outputs": []
    },
    {
      "cell_type": "code",
      "source": "# Bypassing Ajax call by scrolling through profile multiple sections\ntime_to_wait = 3\nlast_height = driver.execute_script(\n\"return document.body.scrollHeight\")\nwhile True:",
      "metadata": {
        "trusted": true
      },
      "execution_count": null,
      "outputs": []
    },
    {
      "cell_type": "code",
      "source": "# Scroll down to bottom\ndriver.execute_script(\n\"window.scrollTo(0,document.body.scrollHeight);\")",
      "metadata": {
        "trusted": true
      },
      "execution_count": null,
      "outputs": []
    },
    {
      "cell_type": "code",
      "source": "# This loop is for bypassing a small bug upon scrolling that causes the Ajax call to be cancelled\nfor i in range(2):\ntime.sleep(time_to_wait)\ndriver.execute_script(\n\"window.scrollTo(0,document.body.scrollHeight/3);\")\n\ndriver.execute_script(\n\"window.scrollTo(0,document.body.scrollHeight/2);\")\n\ndriver.execute_script(\n\"window.scrollTo(0,document.body.scrollHeight*3/4);\")\n\ntime.sleep(time_to_wait)",
      "metadata": {
        "trusted": true
      },
      "execution_count": null,
      "outputs": []
    },
    {
      "cell_type": "code",
      "source": "# Scroll down to bottom \ndriver.execute_script(\n\"window.scrollTo(0, document.body.scrollHeight);\")\nnew_height = driver.execute_script(\n\"return document.body.scrollHeight\")",
      "metadata": {
        "trusted": true
      },
      "execution_count": null,
      "outputs": []
    },
    {
      "cell_type": "code",
      "source": "# Update scroll bar height\nif new_height == last_height:\nbreak\nlast_height = new_height",
      "metadata": {
        "trusted": true
      },
      "execution_count": null,
      "outputs": []
    },
    {
      "cell_type": "code",
      "source": "# Locate button\nbuttons = driver.find_elements_by_tag_name('button')\nlength = len(buttons)\nfor button_num in range(length):\ni = buttons[button_num].get_attribute(\"data-control-name\")\nif i == \"skill_details\":\nbutton = buttons[button_num]\nbreak",
      "metadata": {
        "trusted": true
      },
      "execution_count": null,
      "outputs": []
    },
    {
      "cell_type": "code",
      "source": "# Scroll then click the button\nactions = ActionChains(driver)\nactions.move_to_element(button).click().perform()",
      "metadata": {
        "trusted": true
      },
      "execution_count": null,
      "outputs": []
    },
    {
      "cell_type": "code",
      "source": "# Extract the skills\nskills = driver.find_elements_by_xpath(\n\"//*[starts-with(@class,'pv-skill-category-entity__name-text')]\")\n    \nskill_set_list = []\nfor skill in skills:\nskill_set_list.append(skill.text)",
      "metadata": {
        "trusted": true
      },
      "execution_count": null,
      "outputs": []
    },
    {
      "cell_type": "code",
      "source": "# Append each skill set to its corresponding name\n# Append all to one string\n\nskill_set.append(\"--\".join(\"skill_set_list))",
      "metadata": {
        "trusted": true
      },
      "execution_count": null,
      "outputs": []
    },
    {
      "cell_type": "code",
      "source": "# Return session and skills\nreturn driver, skill_set",
      "metadata": {
        "trusted": true
      },
      "execution_count": null,
      "outputs": []
    },
    {
      "cell_type": "code",
      "source": "def save_to_csv(names,headlines,links,skills):\n\n#If skills argument was false \nif skills is None:\nskills = [None]*len(names)",
      "metadata": {
        "trusted": true
      },
      "execution_count": null,
      "outputs": []
    },
    {
      "cell_type": "code",
      "source": "# Make a dataframe and append data to it\ndf = pd.DataFrame()\nfor i in range(len(names)):\ndf=df.append({\"Name\":names[i], \"Headline\": headlines[i],\n\"Link\":links[i],\"Skills\":skills[i]},\nignore_index=True)",
      "metadata": {
        "trusted": true
      },
      "execution_count": null,
      "outputs": []
    },
    {
      "cell_type": "code",
      "source": "# Save to CSV\ndf.to_csv(\"linkedinscrape.csv\",index=False, columns=[\n\"Name\",\"Headline\",\"Link\",\"Skills\"])",
      "metadata": {
        "trusted": true
      },
      "execution_count": null,
      "outputs": []
    },
    {
      "cell_type": "raw",
      "source": "# Start checkpoint\nif_name__==\"__main__\":\n(options,args) = parser.parse_args()",
      "metadata": {}
    },
    {
      "cell_type": "code",
      "source": "# Inputs\nemail = options.email\npassword = options.password\nskills = options.skills\n\ndriver = login(email,password) #Login Phase\nprint(\"Success Logging In\")\nprint(\"Commencing 'My-Connections'list scrap...\")\ndriver,names,headlines,links = scrap_basic(\ndriver)",
      "metadata": {
        "trusted": true
      },
      "execution_count": null,
      "outputs": []
    },
    {
      "cell_type": "code",
      "source": "# Basic Scrap Phase\nprint(Finished Basic Scrap, scrapped{}\".format(len(names)))\n\nif skills:\nprint(\"Commencing'Skills'scrap...\")\n\ndriver,skill_set = scrap_skills(driver,links)",
      "metadata": {
        "trusted": true
      },
      "execution_count": null,
      "outputs": []
    },
    {
      "cell_type": "code",
      "source": "# Skills Scrap Phase\nprint(\"Finished Scraping Skills\")\nprint(\"Saving to CSV file...\")\nsave_to_csv(names,headlines,links,skill_set)",
      "metadata": {
        "trusted": true
      },
      "execution_count": null,
      "outputs": []
    },
    {
      "cell_type": "code",
      "source": "# Save to CSV\n\nelse:\nsave_to_csv(names,headlines,links,None) #Save to CSV\n\nprint(\"Scraping Session Ended\")",
      "metadata": {
        "trusted": true
      },
      "execution_count": null,
      "outputs": []
    },
    {
      "cell_type": "code",
      "source": "# End Session\ndriver.quit()",
      "metadata": {
        "trusted": true
      },
      "execution_count": null,
      "outputs": []
    }
  ]
}